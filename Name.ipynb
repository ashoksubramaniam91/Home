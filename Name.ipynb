{
 "cells": [
  {
   "cell_type": "code",
   "execution_count": 1,
   "metadata": {},
   "outputs": [],
   "source": [
    "import docx2txt"
   ]
  },
  {
   "cell_type": "code",
   "execution_count": 29,
   "metadata": {},
   "outputs": [
    {
     "name": "stdout",
     "output_type": "stream",
     "text": [
      "\n",
      "List of runs objects in 1st paragraph:->>>\n",
      "[<docx.text.run.Run object at 0x0000000007961438>]\n",
      "\n",
      "Text in the 1st paragraph:->>>\n",
      "Simranjeet Singh\n",
      "\n",
      "The whole content of the document:->>>\n",
      "\n",
      "['Simranjeet Singh', 'Data Analyst ', 'Sector-15, Rohini, Delhi-89 |\\xa0+91 9899596381 |\\xa0simranjeetsingh19980@gmail.com', '', 'To obtain a challenging analytics position where I can bring my strong analytical skills, technical skills and expertise to the forefront to drive business decisions.', 'Profile Summary', 'Providing consultancy to the client for their business problems and effectively implementing the best analytical solution includes,  requirement understanding, data preparation, data mining, data cleaning, making dashboards, DAX and final model delivery.', 'Visualization Tool: MS Excel, Power Point, Power BI, Tableau', 'Languages: R', 'Tools:  Excel, PowerPoint, Power BI, Tableau, SQL, R', 'Database: SQL Servers', 'Data Analyst\\xa0', 'Nurture tECH Academy (July 2018 – Till date)', '', 'Project 1: Adventure Works', 'Used Complex DAX function to make complicated calculations.', 'Developed a model for predicting future decisions and make discount plans for the customers.', 'Used different Feature Selection methods for the model, maintaining the model with the new customer trend.', 'Skills and Tools: Power BI, Excel and SQL.', 'Methods Used: Data Modeling, Data Connections, Statistical Functions, Visualization, Relation Building', '', 'Project 2: Maven Market Stores', 'Made the data model using Logical DAX functions.', 'Developed a model that shows each and every movement or fluctuation of Business.', 'Used different Feature Selection methods for the model, maintaining the model with the new customer trend.', 'Skills and Tools: Microsoft Excel & Power BI', 'Methods Used: Power Query editor, Index and conditional columns, Snowflake Schemas, DAX, Logical Functions, Implicit vs. Explicit Measures', '', 'Project 3: Big Mega Market', 'Defined a marketing strategy by developing a customer segmentation profile based on the revenue and criticality of customers.', \"Used the derived KPI's to gain product demands and sessional trend.\", 'Skills and Tools: Excel and Power BI.', 'Methods Used: Iterator (\"X\") Functions, Two-Way Filters (Use with Caution!), Text-Specific Tools, Number-Specific Tools, Date-Specific Tools, DAX. ', 'B.Com |\\xa02015- 2018\\xa0|\\xa0I.E.C Himachal University, Himachal Pradesh university, solan', 'Commerce| Aggregate: 64%', '12th\\xa0|\\xa02015\\xa0|\\xa0govt. boys senior secondary school, delhi', 'CBSE | Aggregate: 68%', '10th\\xa0|\\xa02013\\xa0|\\xa0Government Sarvodaya Kanya Vidyalaya, delhi', 'CBSE | Aggregate: 7.4 CGPA', 'Certifications', 'Microsoft Certified Specialist ', 'Personal Details', 'Hobbies: Meditation, Listen to music, watching movies.', 'Date of Birth: 16/06/1998', \"Father's Name: Mr. Sukhvinder Singh\", 'Mother’s Name: Mrs. Baljeet Kaur', 'Declaration', 'I hereby declare that all the statements made in above application are true to the best of my knowledge and belief.', '', '', '', 'Best Regards', ' (Simranjeet Singh)']\n"
     ]
    }
   ],
   "source": [
    "from docx import Document \n",
    "  \n",
    "# create an instance of a  \n",
    "# word document we want to open \n",
    "doc = Document('C:/Users/Ashok/Downloads/Simranjeet Singh CV.docx') \n",
    "\n",
    "  \n",
    "# print the list of the runs  \n",
    "# in a specified paragraph \n",
    "print('\\nList of runs objects in 1st paragraph:->>>') \n",
    "print(doc.paragraphs[0].runs) \n",
    "  \n",
    "# print the text in a paragraph  \n",
    "print('\\nText in the 1st paragraph:->>>') \n",
    "print(doc.paragraphs[0].text) \n",
    "  \n",
    "# for printing the complete document \n",
    "print('\\nThe whole content of the document:->>>\\n') \n",
    "a=[]\n",
    "for para in doc.paragraphs: \n",
    "   # print(para.text)\n",
    "    a.append(para.text)\n",
    "print(a)"
   ]
  },
  {
   "cell_type": "code",
   "execution_count": 30,
   "metadata": {},
   "outputs": [],
   "source": [
    "from docx import *\n",
    "\n",
    "document = Document('C:/Users/Ashok/Downloads/Simranjeet Singh CV.docx')\n",
    "bolds=[]\n",
    "italics=[]\n",
    "for para in document.paragraphs:\n",
    "    for run in para.runs:\n",
    "        if run.italic :\n",
    "            italics.append(run.text)\n",
    "        if run.bold :\n",
    "            bolds.append(run.text)\n",
    "\n",
    "boltalic_Dict={'bold_phrases':bolds,\n",
    "              'italic_phrases':italics}"
   ]
  },
  {
   "cell_type": "code",
   "execution_count": 33,
   "metadata": {},
   "outputs": [
    {
     "data": {
      "text/plain": [
       "['Project 1: ',\n",
       " 'Adventure Works',\n",
       " 'Skills and Tools',\n",
       " 'Methods Used',\n",
       " 'Project ',\n",
       " '2',\n",
       " ': ',\n",
       " 'Maven Market Stores',\n",
       " 'Skills and Tools',\n",
       " 'Methods Used',\n",
       " 'Project ',\n",
       " '3',\n",
       " ': ',\n",
       " 'Big Mega Market',\n",
       " 'Skills and Tools',\n",
       " 'Methods Used: ']"
      ]
     },
     "execution_count": 33,
     "metadata": {},
     "output_type": "execute_result"
    }
   ],
   "source": [
    "bolds"
   ]
  },
  {
   "cell_type": "code",
   "execution_count": 43,
   "metadata": {},
   "outputs": [
    {
     "name": "stdout",
     "output_type": "stream",
     "text": [
      "Simranjeet Singh\n"
     ]
    }
   ],
   "source": [
    "import spacy\n",
    "import docx2txt\n",
    "\n",
    "nlp = spacy.load('en_core_web_sm')\n",
    "my_text = docx2txt.process(\"C:/Users/Ashok/Downloads/Simranjeet Singh CV.docx\")\n",
    "doc_2 = nlp(my_text)\n",
    "for ent in doc_2.ents:\n",
    "    if ent.label_ == \"PERSON\":\n",
    "        print('{}'.format(ent))\n",
    "        break"
   ]
  },
  {
   "cell_type": "code",
   "execution_count": 44,
   "metadata": {},
   "outputs": [],
   "source": [
    "import sys\n",
    "#reload(sys)\n",
    "import pandas as pd\n",
    "#sys.setdefaultencoding('utf8')\n",
    "#from cStringIO import StringIO\n",
    "from io import StringIO\n",
    "from pdfminer.pdfinterp import PDFResourceManager, PDFPageInterpreter\n",
    "from pdfminer.converter import TextConverter\n",
    "from pdfminer.layout import LAParams\n",
    "from pdfminer.pdfpage import PDFPage\n",
    "import os\n",
    "import sys, getopt\n",
    "import numpy as np\n",
    "from bs4 import BeautifulSoup\n",
    "import urllib\n",
    "from urllib.request import urlopen\n",
    "#Function converting pdf to string\n",
    "def convert(fname, pages=None):\n",
    "    if not pages:\n",
    "        pagenums = set()\n",
    "    else:\n",
    "        pagenums = set(pages)\n",
    "\n",
    "    output = StringIO()\n",
    "    manager = PDFResourceManager()\n",
    "    converter = TextConverter(manager, output, laparams=LAParams())\n",
    "    interpreter = PDFPageInterpreter(manager, converter)\n",
    "\n",
    "    infile = open(fname, 'rb')\n",
    "    for page in PDFPage.get_pages(infile, pagenums):\n",
    "        interpreter.process_page(page)\n",
    "    infile.close()\n",
    "    converter.close()\n",
    "    text = output.getvalue()\n",
    "    output.close\n",
    "    return text"
   ]
  },
  {
   "cell_type": "code",
   "execution_count": 75,
   "metadata": {},
   "outputs": [],
   "source": [
    "#Converting pdf to string\n",
    "resume_string = convert(\"Desktop/Debdattas Resume.pdf\")"
   ]
  },
  {
   "cell_type": "code",
   "execution_count": 76,
   "metadata": {},
   "outputs": [
    {
     "name": "stdout",
     "output_type": "stream",
     "text": [
      "linkedin.com/in/disha04\n"
     ]
    }
   ],
   "source": [
    "doc_2 = nlp(resume_string)\n",
    "for ent in doc_2.ents:\n",
    "    if ent.label_ == \"PERSON\":\n",
    "        print('{}'.format(ent))\n",
    "        break"
   ]
  },
  {
   "cell_type": "code",
   "execution_count": 77,
   "metadata": {},
   "outputs": [
    {
     "name": "stdout",
     "output_type": "stream",
     "text": [
      "('Project', 'Experience')\n",
      "('Project', 'Skills')\n",
      "('Project', 'Summary')\n",
      "('Experience', 'Skills')\n",
      "('Experience', 'Summary')\n",
      "('Skills', 'Summary')\n"
     ]
    }
   ],
   "source": [
    "from itertools import combinations\n",
    "lst=['Project','Experience','Skills','Summary']\n",
    "for combo in combinations(lst, 2):  # 2 for pairs, 3 for triplets, etc\n",
    "    print(combo)"
   ]
  },
  {
   "cell_type": "code",
   "execution_count": 78,
   "metadata": {},
   "outputs": [
    {
     "data": {
      "text/plain": [
       "'Debdatta\\nChatterjee\\nData Scientist\\n\\nHave a methodical approach towards percieving\\nconcepts and keen to learn theoretical and\\npractical process of applied machine learning\\nwith statistical modelling and python.\\n\\ndishadelhi16@gmail.com\\n\\n8697828012\\n\\nSarjapur, Bangalore, India\\n\\nwww.kaggle.com/altruistdelhite04/kernels\\n\\nlinkedin.com/in/disha04\\n\\nquora.com/proﬁle/Debdatta-Chatterjee\\n\\nlive:db343be7480ef75b\\n\\ngithub.com/@altruistdelhite04\\n\\nstackoverﬂow.com/users/9899273/debdatta-\\nchatterjee\\n\\nEDUCATION\\nMasters in Statistics and Computing\\nInstitute of Science,Banaras Hindu\\nUniversity     \\n08/2017 – 09/2019\\nCourses\\n\\nVaranasi,India\\n\\nStatistics,Programming,Predictive Analytics\\n\\nCOURSEWORK\\n\\nEconometrics and Time Series Analysis, Design of\\nExperiments, Linear Models, Large Sample Theory,\\nStochastic Process, Non-Parametric Methods,Descision\\nTheory, Data Mining, Statistical Inference, Probability\\nTheory, Multivariate Statistical Modelling, Biostatistics,\\nBusiness Statistics,Machine Learning,Computer Vision.\\n\\nHonours in Statistics\\nUniversity of Calcutta     \\n08/2013 – 06/2016\\nCourses\\n\\nStatistics,Mathematics,Economics\\n\\nWORK EXPERIENCE\\nData Science Intern\\nPerkFinance\\n07/2019 – 09/2019\\nFinTech\\nAchievements/Tasks\\n\\nCreating basic framework of predictive model based on\\nsixty features to estimate target audience for lending\\nand assessing risks related to the same.     \\n\\nCo-Ordinator of Mathematical Sciences\\nDepartment,ISC,BHU for Lean Six Sigma\\nGreen Belt Course\\nKPMG,India\\n\\nSubject Matter Expert\\nChegg Inc.\\n03/2018 – 09/2019\\n\\nStudent Placement Co-ordinator\\nDST-CIMS,ISC,BHU\\n\\nStudent Alumni Relations Co-Ordinator\\nDST-CIMs,ISC,BHU\\n\\nKolkata,India\\n\\nPERSONAL PROJECTS\\nFace Recognition with Face detection, Computer Vision\\n,Under Supervision of Dr. Tanima Dutta, Department of\\nComputer Science and Engineering,IIT(BHU)\\n(05/2018 – 07/2018)\\n\\ndescribes the face detection and recognition using Local Binary\\nPattern Histograms classiﬁer on Yale face database.\\n\\nAnalysis of Stock Market Investment Strategies\\n(01/2019 – 05/2019)\\n\\nThis investigation focused on what makes an investor proﬁtable in\\nthe stock market by technical analysis of stock market index. The\\nfactors that attributed to the success of the simulation were\\nanalyzed, and used to increase investing power and ability.\\n\\nIndia\\n\\nPrediction Analysis on Infrastructural change during\\nGovernment ruling 2014-2019 (03/2018 – 05/2018)\\n\\nDetailed description and prediction using linear predictive\\nanaalytics model on four major indices\\nUrbanisation,Infrastructure,economic Growth,Poverty line.\\n\\nSKILLS\\n\\nR\\n\\nPython\\n\\nAdvance Excel\\n\\nBase SAS\\n\\nPython with\\nMachine\\nlearning\\nDeep Learning\\n\\nData\\nPreparation and\\nData\\nVisualisation\\nSQL\\n\\n\\x0c'"
      ]
     },
     "execution_count": 78,
     "metadata": {},
     "output_type": "execute_result"
    }
   ],
   "source": [
    "resume_string"
   ]
  },
  {
   "cell_type": "code",
   "execution_count": 101,
   "metadata": {},
   "outputs": [
    {
     "name": "stdout",
     "output_type": "stream",
     "text": [
      "['SKILLS', 'EDUCATION', 'PROJECTS', 'EXPERIENCE', 'COURSEWORK', 'PERSONAL']\n"
     ]
    }
   ],
   "source": [
    "import re\n",
    "headings=re.findall(r'([A-Z]+)',resume_string)\n",
    "aa=[]\n",
    "for i in headings:\n",
    "    if len(i)>5:\n",
    "        aa.append(i)\n",
    "print(list(set(aa)))"
   ]
  },
  {
   "cell_type": "code",
   "execution_count": 81,
   "metadata": {},
   "outputs": [
    {
     "name": "stdout",
     "output_type": "stream",
     "text": [
      "('EDUCATION', 'COURSEWORK')\n",
      "('EDUCATION', 'EXPERIENCE')\n",
      "('EDUCATION', 'PERSONAL')\n",
      "('EDUCATION', 'PROJECTS')\n",
      "('EDUCATION', 'SKILLS')\n",
      "('COURSEWORK', 'EXPERIENCE')\n",
      "('COURSEWORK', 'PERSONAL')\n",
      "('COURSEWORK', 'PROJECTS')\n",
      "('COURSEWORK', 'SKILLS')\n",
      "('EXPERIENCE', 'PERSONAL')\n",
      "('EXPERIENCE', 'PROJECTS')\n",
      "('EXPERIENCE', 'SKILLS')\n",
      "('PERSONAL', 'PROJECTS')\n",
      "('PERSONAL', 'SKILLS')\n",
      "('PROJECTS', 'SKILLS')\n"
     ]
    }
   ],
   "source": [
    "from itertools import combinations\n",
    "cc=[]\n",
    "for combo in combinations(aa, 2):  # 2 for pairs, 3 for triplets, etc\n",
    "    print(combo)\n",
    "    cc.append(combo)"
   ]
  },
  {
   "cell_type": "code",
   "execution_count": 88,
   "metadata": {},
   "outputs": [
    {
     "data": {
      "text/plain": [
       "('EDUCATION', 'COURSEWORK')"
      ]
     },
     "execution_count": 88,
     "metadata": {},
     "output_type": "execute_result"
    }
   ],
   "source": [
    "cc[0]"
   ]
  },
  {
   "cell_type": "code",
   "execution_count": 98,
   "metadata": {},
   "outputs": [
    {
     "data": {
      "text/plain": [
       "'EDUCATION\\nMasters in Statistics and Computing\\nInstitute of Science,Banaras Hindu\\nUniversity     \\n08/2017 – 09/2019\\nCourses\\n\\nVaranasi,India\\n\\nStatistics,Programming,Predictive Analytics\\n\\nCOURSEWORK\\n\\nEconometrics and Time Series Analysis, Design of\\nExperiments, Linear Models, Large Sample Theory,\\nStochastic Process, Non-Parametric Methods,Descision\\nTheory, Data Mining, Statistical Inference, Probability\\nTheory, Multivariate Statistical Modelling, Biostatistics,\\nBusiness Statistics,Machine Learning,Computer Vision.\\n\\nHonours in Statistics\\nUniversity of Calcutta     \\n08/2013 – 06/2016\\nCourses\\n\\nStatistics,Mathematics,Economics\\n\\nWORK '"
      ]
     },
     "execution_count": 98,
     "metadata": {},
     "output_type": "execute_result"
    }
   ],
   "source": [
    "a,b=resume_string.find(cc[1][0]),resume_string.find(cc[1][1])\n",
    "resume_string[a:b]"
   ]
  },
  {
   "cell_type": "code",
   "execution_count": 96,
   "metadata": {},
   "outputs": [
    {
     "name": "stdout",
     "output_type": "stream",
     "text": [
      "COURSEWORK\n",
      "EXPERIENCE\n",
      "PERSONAL\n",
      "PROJECTS\n",
      "SKILLS\n",
      "EXPERIENCE\n",
      "PERSONAL\n",
      "PROJECTS\n",
      "SKILLS\n",
      "PERSONAL\n",
      "PROJECTS\n",
      "SKILLS\n",
      "PROJECTS\n",
      "SKILLS\n",
      "SKILLS\n"
     ]
    }
   ],
   "source": [
    "for i in cc:\n",
    "    print(i[1])"
   ]
  },
  {
   "cell_type": "code",
   "execution_count": 111,
   "metadata": {},
   "outputs": [],
   "source": [
    "a,b=resume_string.find('EXPERIENCE'),resume_string.find('SKILLS')\n",
    "d=resume_string[a:b]"
   ]
  },
  {
   "cell_type": "code",
   "execution_count": 112,
   "metadata": {},
   "outputs": [
    {
     "data": {
      "text/plain": [
       "'EXPERIENCE\\nData Science Intern\\nPerkFinance\\n07/2019 – 09/2019\\nFinTech\\nAchievements/Tasks\\n\\nCreating basic framework of predictive model based on\\nsixty features to estimate target audience for lending\\nand assessing risks related to the same.     \\n\\nCo-Ordinator of Mathematical Sciences\\nDepartment,ISC,BHU for Lean Six Sigma\\nGreen Belt Course\\nKPMG,India\\n\\nSubject Matter Expert\\nChegg Inc.\\n03/2018 – 09/2019\\n\\nStudent Placement Co-ordinator\\nDST-CIMS,ISC,BHU\\n\\nStudent Alumni Relations Co-Ordinator\\nDST-CIMs,ISC,BHU\\n\\nKolkata,India\\n\\nPERSONAL PROJECTS\\nFace Recognition with Face detection, Computer Vision\\n,Under Supervision of Dr. Tanima Dutta, Department of\\nComputer Science and Engineering,IIT(BHU)\\n(05/2018 – 07/2018)\\n\\ndescribes the face detection and recognition using Local Binary\\nPattern Histograms classiﬁer on Yale face database.\\n\\nAnalysis of Stock Market Investment Strategies\\n(01/2019 – 05/2019)\\n\\nThis investigation focused on what makes an investor proﬁtable in\\nthe stock market by technical analysis of stock market index. The\\nfactors that attributed to the success of the simulation were\\nanalyzed, and used to increase investing power and ability.\\n\\nIndia\\n\\nPrediction Analysis on Infrastructural change during\\nGovernment ruling 2014-2019 (03/2018 – 05/2018)\\n\\nDetailed description and prediction using linear predictive\\nanaalytics model on four major indices\\nUrbanisation,Infrastructure,economic Growth,Poverty line.\\n\\n'"
      ]
     },
     "execution_count": 112,
     "metadata": {},
     "output_type": "execute_result"
    }
   ],
   "source": [
    "d"
   ]
  },
  {
   "cell_type": "code",
   "execution_count": 113,
   "metadata": {},
   "outputs": [
    {
     "name": "stdout",
     "output_type": "stream",
     "text": [
      "['EXPERIENCE', 'PROJECTS', 'PERSONAL']\n"
     ]
    }
   ],
   "source": [
    "headings=re.findall(r'([A-Z]+)',d)\n",
    "aa=[]\n",
    "for i in headings:\n",
    "    if len(i)>5:\n",
    "        aa.append(i)\n",
    "print(list(set(aa)))"
   ]
  },
  {
   "cell_type": "code",
   "execution_count": null,
   "metadata": {},
   "outputs": [],
   "source": []
  }
 ],
 "metadata": {
  "kernelspec": {
   "display_name": "Python 3",
   "language": "python",
   "name": "python3"
  },
  "language_info": {
   "codemirror_mode": {
    "name": "ipython",
    "version": 3
   },
   "file_extension": ".py",
   "mimetype": "text/x-python",
   "name": "python",
   "nbconvert_exporter": "python",
   "pygments_lexer": "ipython3",
   "version": "3.7.1"
  }
 },
 "nbformat": 4,
 "nbformat_minor": 2
}
